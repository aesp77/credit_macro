{
  "cells": [
    {
      "cell_type": "markdown",
      "metadata": {},
      "source": [
        "# CDS Strategy Testing and P&L Calculations\n",
        "\n",
        "This notebook implements and tests various CDS trading strategies."
      ]
    },
    {
      "cell_type": "code",
      "execution_count": 1,
      "metadata": {},
      "outputs": [
        {
          "name": "stdout",
          "output_type": "stream",
          "text": [
            "Modules imported successfully\n"
          ]
        }
      ],
      "source": [
        "# Setup\n",
        "import sys\n",
        "import os\n",
        "sys.path.insert(0, os.path.abspath('..'))\n",
        "\n",
        "import pandas as pd\n",
        "import numpy as np\n",
        "import matplotlib.pyplot as plt\n",
        "import seaborn as sns\n",
        "from datetime import datetime, timedelta\n",
        "\n",
        "sns.set_style('darkgrid')\n",
        "plt.rcParams['figure.figsize'] = (12, 6)\n",
        "\n",
        "# Import our modules\n",
        "from src.data import BloombergCDSConnector, CDSDataManager\n",
        "from src.models import (\n",
        "    Region, Market, Tenor, Side,\n",
        "    Position, Strategy,\n",
        "    CDSDatabase\n",
        ")\n",
        "\n",
        "print('Modules imported successfully')"
      ]
    },
    {
      "cell_type": "markdown",
      "metadata": {},
      "source": [
        "## 1. Initialize Components"
      ]
    },
    {
      "cell_type": "code",
      "execution_count": 2,
      "metadata": {},
      "outputs": [
        {
          "name": "stdout",
          "output_type": "stream",
          "text": [
            "Working with series 43\n"
          ]
        }
      ],
      "source": [
        "# Initialize\n",
        "connector = BloombergCDSConnector()\n",
        "db = CDSDatabase('../data/cds_monitor.db')\n",
        "manager = CDSDataManager(connector, db)\n",
        "\n",
        "# Current on-the-run series\n",
        "current_series = 43\n",
        "\n",
        "print(f'Working with series {current_series}')"
      ]
    },
    {
      "cell_type": "markdown",
      "metadata": {},
      "source": [
        "## 2. 5s10s Steepener Strategy"
      ]
    },
    {
      "cell_type": "code",
      "execution_count": 3,
      "metadata": {},
      "outputs": [
        {
          "name": "stdout",
          "output_type": "stream",
          "text": [
            "Analyzing 5s10s Steepener...\n",
            "\n",
            "Current Market:\n",
            "5Y Spread: 50.34 bps\n",
            "10Y Spread: 91.69 bps\n",
            "5s10s Slope: 41.35 bps\n",
            "\n",
            "Risk Metrics:\n",
            "5Y DV01: $4,587\n",
            "10Y DV01: $8,295\n",
            "DV01 Ratio (10Y/5Y): 1.808\n"
          ]
        }
      ],
      "source": [
        "# Calculate 5s10s metrics\n",
        "print('Analyzing 5s10s Steepener...\\n')\n",
        "\n",
        "metrics = manager.calculate_strategy_metrics('5s10s', series=current_series)\n",
        "\n",
        "if metrics:\n",
        "    print('Current Market:')\n",
        "    print(f'5Y Spread: {metrics[\"spread_5y\"]:.2f} bps')\n",
        "    print(f'10Y Spread: {metrics[\"spread_10y\"]:.2f} bps')\n",
        "    print(f'5s10s Slope: {metrics[\"slope\"]:.2f} bps')\n",
        "    print(f'\\nRisk Metrics:')\n",
        "    print(f'5Y DV01: ${metrics[\"dv01_5y\"]:,.0f}')\n",
        "    print(f'10Y DV01: ${metrics[\"dv01_10y\"]:,.0f}')\n",
        "    print(f'DV01 Ratio (10Y/5Y): {metrics[\"dv01_ratio\"]:.3f}')"
      ]
    },
    {
      "cell_type": "code",
      "execution_count": 4,
      "metadata": {},
      "outputs": [
        {
          "name": "stdout",
          "output_type": "stream",
          "text": [
            "DEBUG - Checking metrics:\n",
            "metrics = {'series': 43, 'spread_5y': 50.3357, 'spread_10y': 91.68678, 'slope': 41.351079999999996, 'dv01_5y': 4587.283931699821, 'dv01_10y': 8294.855400804836, 'dv01_ratio': 1.8082280330380973, 'dv01_weighted_slope': 74.77218205240099, 'timestamp': datetime.datetime(2025, 9, 16, 14, 1, 58, 169015)}\n",
            "dv01_ratio = 1.8082280330380973\n",
            "np.isnan(dv01_ratio) = False\n",
            "Creating DV01-neutral steepener:\n",
            "Sell 5Y: $10,000,000\n",
            "Buy 10Y: $5,530,276\n",
            "\n",
            "Strategy created:\n",
            "Net DV01: $0\n",
            "Is DV01 neutral: True\n",
            "Strategy saved to database\n"
          ]
        }
      ],
      "source": [
        "# Debug the metrics first\n",
        "print(\"DEBUG - Checking metrics:\")\n",
        "print(f\"metrics = {metrics}\")\n",
        "if metrics:\n",
        "    print(f\"dv01_ratio = {metrics.get('dv01_ratio', 'KEY MISSING')}\")\n",
        "    print(f\"np.isnan(dv01_ratio) = {np.isnan(metrics.get('dv01_ratio', float('nan')))}\")\n",
        "else:\n",
        "    print(\"metrics is None - check calculate_strategy_metrics\")\n",
        "\n",
        "\n",
        "\n",
        "# Create DV01-neutral 5s10s steepener position\n",
        "if metrics and not np.isnan(metrics['dv01_ratio']):\n",
        "    # Calculate notionals for DV01 neutrality\n",
        "    notional_5y = 10_000_000  # $10mm 5Y\n",
        "    notional_10y = notional_5y / metrics['dv01_ratio']  # Scaled for DV01 neutrality\n",
        "    \n",
        "    print(f'Creating DV01-neutral steepener:')\n",
        "    print(f'Sell 5Y: ${notional_5y:,.0f}')\n",
        "    print(f'Buy 10Y: ${notional_10y:,.0f}')\n",
        "    \n",
        "    # Create strategy\n",
        "    steepener = Strategy(\n",
        "        name=f'EU_IG_5s10s_S{current_series}',\n",
        "        strategy_type='5s10s',\n",
        "        positions=[\n",
        "            Position(\n",
        "                index_id=f'EU_IG_S{current_series}_5Y',\n",
        "                side=Side.SELL,\n",
        "                notional=notional_5y,\n",
        "                entry_date=datetime.now(),\n",
        "                entry_spread=metrics['spread_5y'],\n",
        "                entry_dv01=metrics['dv01_5y']\n",
        "            ),\n",
        "            Position(\n",
        "                index_id=f'EU_IG_S{current_series}_10Y',\n",
        "                side=Side.BUY,\n",
        "                notional=notional_10y,\n",
        "                entry_date=datetime.now(),\n",
        "                entry_spread=metrics['spread_10y'],\n",
        "                entry_dv01=metrics['dv01_10y']\n",
        "            )\n",
        "        ],\n",
        "        creation_date=datetime.now(),\n",
        "        target_dv01=0,\n",
        "        stop_loss=50000,  # $50k stop loss\n",
        "        take_profit=100000  # $100k take profit\n",
        "    )\n",
        "    \n",
        "    print(f'\\nStrategy created:')\n",
        "    print(f'Net DV01: ${steepener.net_dv01:,.0f}')\n",
        "    print(f'Is DV01 neutral: {steepener.is_dv01_neutral(tolerance=1000)}')\n",
        "    \n",
        "    # Save to database\n",
        "    db.save_strategy(steepener)\n",
        "    print('Strategy saved to database')"
      ]
    },
    {
      "cell_type": "code",
      "execution_count": 6,
      "metadata": {},
      "outputs": [
        {
          "name": "stdout",
          "output_type": "stream",
          "text": [
            "Available database methods:\n",
            "['close', 'conn', 'db_path', 'get_historical_spreads', 'get_latest_spread', 'get_open_positions', 'get_pnl_history', 'save_curve', 'save_index_definition', 'save_pnl_history', 'save_position', 'save_spread_data', 'save_strategy', 'update_position_exit']\n"
          ]
        }
      ],
      "source": [
        "# Check available methods\n",
        "print(\"Available database methods:\")\n",
        "print([method for method in dir(db) if not method.startswith('_')])"
      ]
    },
    {
      "cell_type": "code",
      "execution_count": 7,
      "metadata": {},
      "outputs": [
        {
          "name": "stdout",
          "output_type": "stream",
          "text": [
            "Available tables:\n",
            "                name\n",
            "0  index_definitions\n",
            "1        spread_data\n",
            "2    sqlite_sequence\n",
            "3             curves\n",
            "4          positions\n",
            "5         strategies\n",
            "6        pnl_history\n",
            "\n",
            "Strategies table schema:\n",
            "   cid           name       type  notnull         dflt_value  pk\n",
            "0    0  strategy_name       TEXT        0               None   1\n",
            "1    1  strategy_type       TEXT        1               None   0\n",
            "2    2  creation_date  TIMESTAMP        1               None   0\n",
            "3    3    target_dv01       REAL        0               None   0\n",
            "4    4      stop_loss       REAL        0               None   0\n",
            "5    5    take_profit       REAL        0               None   0\n",
            "6    6         status       TEXT        0           'ACTIVE'   0\n",
            "7    7       metadata       TEXT        0               None   0\n",
            "8    8     created_at  TIMESTAMP        0  CURRENT_TIMESTAMP   0\n",
            "9    9     updated_at  TIMESTAMP        0  CURRENT_TIMESTAMP   0\n",
            "\n",
            "Saved strategies (1 total):\n",
            "     strategy_name strategy_type               creation_date  target_dv01  \\\n",
            "0  EU_IG_5s10s_S43         5s10s  2025-09-16 14:01:59.944922          0.0   \n",
            "\n",
            "   stop_loss  take_profit  status metadata           created_at  \\\n",
            "0    50000.0     100000.0  ACTIVE     None  2025-09-16 13:01:59   \n",
            "\n",
            "            updated_at  \n",
            "0  2025-09-16 13:01:59  \n",
            "\n",
            "Saved positions (6 total):\n",
            "   position_id       index_id    strategy_name  side      notional  \\\n",
            "0            5   EU_IG_S43_5Y  EU_IG_5s10s_S43    -1  1.000000e+07   \n",
            "1            6  EU_IG_S43_10Y  EU_IG_5s10s_S43     1  5.530276e+06   \n",
            "2            3   EU_IG_S43_5Y  EU_IG_5s10s_S43    -1  1.000000e+07   \n",
            "3            4  EU_IG_S43_10Y  EU_IG_5s10s_S43     1  5.530673e+06   \n",
            "4            1   EU_IG_S43_5Y  EU_IG_5s10s_S43    -1  1.000000e+07   \n",
            "\n",
            "                   entry_date  entry_spread   entry_dv01 exit_date  \\\n",
            "0  2025-09-16 14:01:59.944922      50.33570  4587.283932      None   \n",
            "1  2025-09-16 14:01:59.944922      91.68678  8294.855401      None   \n",
            "2  2025-09-16 14:00:33.801799      50.28669  4587.613052      None   \n",
            "3  2025-09-16 14:00:33.801799      91.63726  8294.855401      None   \n",
            "4  2025-09-16 13:50:02.489066      50.28669  4587.613052      None   \n",
            "\n",
            "  exit_spread exit_dv01   pnl status           created_at           updated_at  \n",
            "0        None      None  None   OPEN  2025-09-16 13:01:59  2025-09-16 13:01:59  \n",
            "1        None      None  None   OPEN  2025-09-16 13:01:59  2025-09-16 13:01:59  \n",
            "2        None      None  None   OPEN  2025-09-16 13:00:33  2025-09-16 13:00:33  \n",
            "3        None      None  None   OPEN  2025-09-16 13:00:33  2025-09-16 13:00:33  \n",
            "4        None      None  None   OPEN  2025-09-16 12:50:02  2025-09-16 12:50:02  \n"
          ]
        }
      ],
      "source": [
        "# Check what tables exist\n",
        "query = \"SELECT name FROM sqlite_master WHERE type='table';\"\n",
        "tables = pd.read_sql_query(query, db.conn)\n",
        "print(\"Available tables:\")\n",
        "print(tables)\n",
        "\n",
        "# Check the strategies table structure and data\n",
        "if 'strategies' in tables['name'].values:\n",
        "    # Get table schema\n",
        "    schema = pd.read_sql_query(\"PRAGMA table_info(strategies)\", db.conn)\n",
        "    print(\"\\nStrategies table schema:\")\n",
        "    print(schema)\n",
        "    \n",
        "    # Get saved strategies\n",
        "    strategies_df = pd.read_sql_query(\"SELECT * FROM strategies ORDER BY creation_date DESC\", db.conn)\n",
        "    print(f\"\\nSaved strategies ({len(strategies_df)} total):\")\n",
        "    print(strategies_df)\n",
        "    \n",
        "    # Check positions table if it exists\n",
        "    if 'positions' in tables['name'].values:\n",
        "        positions_df = pd.read_sql_query(\"SELECT * FROM positions ORDER BY entry_date DESC\", db.conn)\n",
        "        print(f\"\\nSaved positions ({len(positions_df)} total):\")\n",
        "        print(positions_df.head())\n",
        "else:\n",
        "    print(\"No strategies table found - data might not be saving correctly\")"
      ]
    },
    {
      "cell_type": "code",
      "execution_count": 5,
      "metadata": {},
      "outputs": [
        {
          "ename": "AttributeError",
          "evalue": "'CDSDatabase' object has no attribute 'get_all_strategies'",
          "output_type": "error",
          "traceback": [
            "\u001b[1;31m---------------------------------------------------------------------------\u001b[0m",
            "\u001b[1;31mAttributeError\u001b[0m                            Traceback (most recent call last)",
            "Cell \u001b[1;32mIn[5], line 2\u001b[0m\n\u001b[0;32m      1\u001b[0m \u001b[38;5;66;03m# Check what strategies are saved\u001b[39;00m\n\u001b[1;32m----> 2\u001b[0m saved_strategies \u001b[38;5;241m=\u001b[39m \u001b[43mdb\u001b[49m\u001b[38;5;241;43m.\u001b[39;49m\u001b[43mget_all_strategies\u001b[49m()\n\u001b[0;32m      3\u001b[0m \u001b[38;5;28mprint\u001b[39m(\u001b[38;5;124mf\u001b[39m\u001b[38;5;124m\"\u001b[39m\u001b[38;5;124mNumber of saved strategies: \u001b[39m\u001b[38;5;132;01m{\u001b[39;00m\u001b[38;5;28mlen\u001b[39m(saved_strategies)\u001b[38;5;132;01m}\u001b[39;00m\u001b[38;5;124m\"\u001b[39m)\n\u001b[0;32m      5\u001b[0m \u001b[38;5;28;01mif\u001b[39;00m saved_strategies:\n",
            "\u001b[1;31mAttributeError\u001b[0m: 'CDSDatabase' object has no attribute 'get_all_strategies'"
          ]
        }
      ],
      "source": [
        "# Check what strategies are saved\n",
        "saved_strategies = db.get_all_strategies()\n",
        "print(f\"Number of saved strategies: {len(saved_strategies)}\")\n",
        "\n",
        "if saved_strategies:\n",
        "    for strategy in saved_strategies[-3:]:  # Show last 3\n",
        "        print(f\"\\nStrategy: {strategy.name}\")\n",
        "        print(f\"Type: {strategy.strategy_type}\")\n",
        "        print(f\"Created: {strategy.creation_date}\")\n",
        "        print(f\"Positions: {len(strategy.positions)}\")\n",
        "        print(f\"Net DV01: ${strategy.net_dv01:,.0f}\")"
      ]
    },
    {
      "cell_type": "code",
      "execution_count": 8,
      "metadata": {},
      "outputs": [
        {
          "name": "stdout",
          "output_type": "stream",
          "text": [
            "Most recent strategy positions:\n",
            "        index_id  side      notional  entry_spread   entry_dv01\n",
            "0   EU_IG_S43_5Y    -1  1.000000e+07      50.33570  4587.283932\n",
            "1  EU_IG_S43_10Y     1  5.530276e+06      91.68678  8294.855401\n",
            "\n",
            "P&L Analysis (vs current spreads):\n",
            "Current 5Y spread: 50.34 bps\n",
            "Current 10Y spread: 91.69 bps\n",
            "--------------------------------------------------\n",
            "EU_IG_S43_5Y (SELL):\n",
            "  Entry: 50.34 bps\n",
            "  Current: 50.34 bps\n",
            "  Change: +0.00 bps\n",
            "  DV01: $4,587\n",
            "  P&L: $-0\n",
            "\n",
            "EU_IG_S43_10Y (BUY):\n",
            "  Entry: 91.69 bps\n",
            "  Current: 91.69 bps\n",
            "  Change: +0.00 bps\n",
            "  DV01: $8,295\n",
            "  P&L: $0\n",
            "\n",
            "🎯 **Total Strategy P&L: $0**\n",
            "\n",
            "Strategy Targets:\n",
            "Stop Loss: $50,000\n",
            "Take Profit: $100,000\n",
            "Position within targets (0.0% to take profit)\n"
          ]
        }
      ],
      "source": [
        "# Get the most recent strategy positions\n",
        "recent_positions = pd.read_sql_query(\"\"\"\n",
        "    SELECT * FROM positions \n",
        "    WHERE strategy_name = 'EU_IG_5s10s_S43' \n",
        "    AND entry_date = (\n",
        "        SELECT MAX(entry_date) FROM positions \n",
        "        WHERE strategy_name = 'EU_IG_5s10s_S43'\n",
        "    )\n",
        "\"\"\", db.conn)\n",
        "\n",
        "print(\"Most recent strategy positions:\")\n",
        "print(recent_positions[['index_id', 'side', 'notional', 'entry_spread', 'entry_dv01']])\n",
        "\n",
        "# Calculate current P&L\n",
        "total_pnl = 0\n",
        "print(f\"\\nP&L Analysis (vs current spreads):\")\n",
        "print(f\"Current 5Y spread: {metrics['spread_5y']:.2f} bps\")\n",
        "print(f\"Current 10Y spread: {metrics['spread_10y']:.2f} bps\")\n",
        "print(\"-\" * 50)\n",
        "\n",
        "for _, pos in recent_positions.iterrows():\n",
        "    # Get current spread\n",
        "    if '5Y' in pos['index_id']:\n",
        "        current_spread = metrics['spread_5y']\n",
        "    elif '10Y' in pos['index_id']:\n",
        "        current_spread = metrics['spread_10y']\n",
        "    \n",
        "    # Calculate P&L: (current - entry) * DV01 * side\n",
        "    spread_change = current_spread - pos['entry_spread']\n",
        "    position_pnl = spread_change * pos['entry_dv01'] * pos['side']  # side is -1 for SELL, +1 for BUY\n",
        "    total_pnl += position_pnl\n",
        "    \n",
        "    side_text = \"SELL\" if pos['side'] == -1 else \"BUY\"\n",
        "    print(f\"{pos['index_id']} ({side_text}):\")\n",
        "    print(f\"  Entry: {pos['entry_spread']:.2f} bps\")\n",
        "    print(f\"  Current: {current_spread:.2f} bps\") \n",
        "    print(f\"  Change: {spread_change:+.2f} bps\")\n",
        "    print(f\"  DV01: ${pos['entry_dv01']:,.0f}\")\n",
        "    print(f\"  P&L: ${position_pnl:,.0f}\")\n",
        "    print()\n",
        "\n",
        "print(f\"🎯 **Total Strategy P&L: ${total_pnl:,.0f}**\")\n",
        "\n",
        "# Check if strategy hit profit targets\n",
        "strategy_info = pd.read_sql_query(\"SELECT * FROM strategies WHERE strategy_name = 'EU_IG_5s10s_S43'\", db.conn)\n",
        "stop_loss = strategy_info['stop_loss'].iloc[0]\n",
        "take_profit = strategy_info['take_profit'].iloc[0]\n",
        "\n",
        "print(f\"\\nStrategy Targets:\")\n",
        "print(f\"Stop Loss: ${stop_loss:,.0f}\")\n",
        "print(f\"Take Profit: ${take_profit:,.0f}\")\n",
        "\n",
        "if total_pnl <= -stop_loss:\n",
        "    print(\"🔴 STOP LOSS HIT!\")\n",
        "elif total_pnl >= take_profit:\n",
        "    print(\"🟢 TAKE PROFIT HIT!\")\n",
        "else:\n",
        "    print(f\"Position within targets ({total_pnl/take_profit*100:.1f}% to take profit)\")"
      ]
    },
    {
      "cell_type": "markdown",
      "metadata": {},
      "source": [
        "## 3. Compression Trade (Main vs Crossover)"
      ]
    },
    {
      "cell_type": "code",
      "execution_count": 9,
      "metadata": {},
      "outputs": [
        {
          "name": "stdout",
          "output_type": "stream",
          "text": [
            "Analyzing EU Compression Trade...\n",
            "\n"
          ]
        }
      ],
      "source": [
        "# Analyze compression opportunity\n",
        "print('Analyzing EU Compression Trade...\\n')\n",
        "\n",
        "compression_metrics = manager.calculate_strategy_metrics('compression', series=current_series)\n",
        "\n",
        "if compression_metrics:\n",
        "    print('Current Market:')\n",
        "    print(f'Main (IG) Spread: {compression_metrics[\"main_spread\"][\"PX_LAST\"].iloc[0]:.2f} bps')\n",
        "    print(f'Crossover Spread: {compression_metrics[\"xo_spread\"][\"PX_LAST\"].iloc[0]:.2f} bps')\n",
        "    print(f'XO-Main Basis: {compression_metrics[\"basis\"]:.2f} bps')\n",
        "    print(f'XO/Main Ratio: {compression_metrics[\"ratio\"]:.2f}x')"
      ]
    },
    {
      "cell_type": "code",
      "execution_count": null,
      "metadata": {},
      "outputs": [],
      "source": []
    },
    {
      "cell_type": "markdown",
      "metadata": {},
      "source": [
        "## 4. P&L Simulation"
      ]
    },
    {
      "cell_type": "code",
      "execution_count": 12,
      "metadata": {},
      "outputs": [
        {
          "name": "stdout",
          "output_type": "stream",
          "text": [
            "P&L Simulation for 5s10s Steepener:\n",
            "\n",
            "EU_IG_S43_5Y: 5bps × $4587.283931699821 × -1 = $-22,936\n",
            "EU_IG_S43_10Y: 5bps × $8294.855400804836 × 1 = $41,474\n",
            "Parallel shift +5bps: $18,538\n",
            "EU_IG_S43_5Y: 0bps × $4587.283931699821 × -1 = $-0\n",
            "EU_IG_S43_10Y: 5bps × $8294.855400804836 × 1 = $41,474\n",
            "Steepening +5bps: $41,474\n",
            "EU_IG_S43_5Y: 5bps × $4587.283931699821 × -1 = $-22,936\n",
            "EU_IG_S43_10Y: 0bps × $8294.855400804836 × 1 = $0\n",
            "Flattening -5bps: $-22,936\n"
          ]
        }
      ],
      "source": [
        "# Simulate P&L for different spread moves\n",
        "def simulate_pnl(strategy, spread_changes):\n",
        "    '''Simulate P&L for given spread changes'''\n",
        "    total_pnl = 0\n",
        "    \n",
        "    for position in strategy.positions:\n",
        "        if position.index_id in spread_changes:\n",
        "            spread_change = spread_changes[position.index_id]  # in bps\n",
        "            \n",
        "            # Map side to multiplier properly\n",
        "            if hasattr(position.side, 'value'):\n",
        "                side_str = position.side.value\n",
        "            else:\n",
        "                side_str = str(position.side)\n",
        "                \n",
        "            if side_str == 'SELL' or side_str == -1:\n",
        "                side_multiplier = -1\n",
        "            elif side_str == 'BUY' or side_str == 1:\n",
        "                side_multiplier = 1\n",
        "            else:\n",
        "                print(f\"Unknown side: {side_str}\")\n",
        "                continue\n",
        "            \n",
        "            pnl = spread_change * position.entry_dv01 * side_multiplier\n",
        "            print(f\"{position.index_id}: {spread_change}bps × ${position.entry_dv01} × {side_multiplier} = ${pnl:,.0f}\")\n",
        "            \n",
        "            total_pnl += pnl\n",
        "    \n",
        "    return total_pnl\n",
        "\n",
        "# Simulate scenarios for the steepener\n",
        "if 'steepener' in locals():\n",
        "    print('P&L Simulation for 5s10s Steepener:\\n')\n",
        "    \n",
        "    scenarios = [\n",
        "        {'name': 'Parallel shift +5bps', \n",
        "         'changes': {f'EU_IG_S{current_series}_5Y': 5, f'EU_IG_S{current_series}_10Y': 5}},\n",
        "        {'name': 'Steepening +5bps', \n",
        "         'changes': {f'EU_IG_S{current_series}_5Y': 0, f'EU_IG_S{current_series}_10Y': 5}},\n",
        "        {'name': 'Flattening -5bps', \n",
        "         'changes': {f'EU_IG_S{current_series}_5Y': 5, f'EU_IG_S{current_series}_10Y': 0}},\n",
        "    ]\n",
        "    \n",
        "    for scenario in scenarios:\n",
        "        pnl = simulate_pnl(steepener, scenario['changes'])\n",
        "        print(f'{scenario[\"name\"]}: ${pnl:,.0f}')"
      ]
    }
  ],
  "metadata": {
    "kernelspec": {
      "display_name": ".venv",
      "language": "python",
      "name": "python3"
    },
    "language_info": {
      "codemirror_mode": {
        "name": "ipython",
        "version": 3
      },
      "file_extension": ".py",
      "mimetype": "text/x-python",
      "name": "python",
      "nbconvert_exporter": "python",
      "pygments_lexer": "ipython3",
      "version": "3.11.9"
    }
  },
  "nbformat": 4,
  "nbformat_minor": 4
}
