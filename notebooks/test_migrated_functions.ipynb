{
  "cells": [
    {
      "cell_type": "markdown",
      "metadata": {},
      "source": [
        "# Test Imports for Migrated Functions\n",
        "This notebook tests that all migrated functions can be imported"
      ]
    },
    {
      "cell_type": "code",
      "metadata": {},
      "source": [
        "import sys\n",
        "sys.path.append('..')\n",
        "\n",
        "# Test imports\n",
        "try:\n",
        "    from src.models.trs import calculate_cds_total_return, TRSDatabaseBuilder\n",
        "    print('\u2713 TRS imports successful')\n",
        "except ImportError as e:\n",
        "    print(f'\u2717 TRS import failed: {e}')\n",
        "\n",
        "try:\n",
        "    from src.models.strategy_calc import calculate_generic_strategy_metrics\n",
        "    print('\u2713 Strategy imports successful')\n",
        "except ImportError as e:\n",
        "    print(f'\u2717 Strategy import failed: {e}')\n"
      ]
    }
  ],
  "metadata": {
    "kernelspec": {
      "display_name": "Python 3",
      "language": "python",
      "name": "python3"
    }
  },
  "nbformat": 4,
  "nbformat_minor": 4
}